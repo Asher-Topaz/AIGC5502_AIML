import pandas as pd
import numpy as np
import matplotlib.pyplot as plt
import seaborn as sns



df = pd.read_csv("robots.csv")


from sklearn.model_selection import train_test_split
from sklearn.linear_model import LogisticRegression
from sklearn.metrics import accuracy_score, precision_score, recall_score, f1_score,roc_auc_score,confusion_matrix

X = df.drop(columns=['Maintenance Requirement'])
y = df['Maintenance Requirement']

X_train, X_test, y_train, y_test = train_test_split(X,y,test_size=0.28,random_state= 42)



model = LogisticRegression()
model.fit(X_train,y_train)




y_pred = model.predict(X_test)
accuracy = accuracy_score(y_test,y_pred)
print("Accuracy:",accuracy)


conf_matrix = confusion_matrix(y_test,y_pred)
print("confusion_matrix",conf_matrix)


plt.figure(figsize=(6,6))
cm_log_reg = confusion_matrix(y_test,y_pred)
sns.heatmap(cm_log_reg, annot=True, fmt='d',cmap="Greens",cbar='False')
plt.title("confusion_matrix-Logistic Regression")
plt.xlabel("Predicted Labels")
plt.ylabel("True Labels")
plt.show()




precision = precision_score(y_test,y_pred)
precision



