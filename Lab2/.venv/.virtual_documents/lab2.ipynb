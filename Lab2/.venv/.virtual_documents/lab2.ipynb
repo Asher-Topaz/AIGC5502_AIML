import numpy as numpy
import pandas as pd 
import matplotlib.pyplot as plt 
from sklearn.linear_model import LinearRegression
from sklearn.metrics import mean_squared_error
from sklearn.model_selection import train_test_split

insurance_data = pd.read_csv("simplelinearregression.csv")


insurance_data.head()


insurance_data.describe()


indp_vars = insurance_data['Age'].values.reshape(-1,1)
dep_var=insurance_data["Premium"].values



plt.scatter(indp_vars,dep_var)
plt.xlabel("Age")
plt.ylabel("Premium ($)")
plt.title("Indp vs Dep")



train_x,test_x,train_y,test_y=train_test_split(indp_vars,dep_var,test_size=0.2,random_state=42)


lr_model = LinearRegression()


lr_model.fit(train_x,train_y)


pred=lr_model.predict(test_x)


pred


mse=mean_squared_error(pred,test_y)


mse


plt.scatter(train_x,train_y,color='blue',label='training set')
plt.scatter(test_x,test_y,color='red',label='test set')
plt.plot(test_x,pred,color='green',label='prediction line')
plt.legend()
plt.xlabel("Age")
plt.ylabel("Premium")
plt.title("Indp vs Dep")



new_entry = input("Enter Age: ")
new_entry = [[float(new_entry)]]
pred_new=lr_model.predict(new_entry)

print(pred_new)




