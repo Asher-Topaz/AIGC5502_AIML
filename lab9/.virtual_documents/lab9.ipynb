import numpy as np
import pandas as pd
import matplotlib.pyplot as plt
import seaborn as sns



df = pd.read_csv("50_Startups.csv")
df.head(10)


sns.pairplot(df)


X = df[['R&D Spend','Administration','Marketing Spend',]]
y= df['Profit']


sns.distplot(df['Profit']);


from sklearn import linear_model
from sklearn.linear_model import LinearRegression
from sklearn import metrics
from sklearn.metrics import mean_squared_error, mean_absolute_error
from sklearn.model_selection import train_test_split, cross_val_score

X_train,X_test, y_train, y_test = train_test_split(X, y, test_size = 0.2, random_state = 42)


model = linear_model.LinearRegression()


model = LinearRegression().fit(X_train, y_train)


y_pred= model.predict(X_test)  


model_df = pd.DataFrame({'Actual value': y_test, 'Predicted value': y_pred})
model_df


mae = metrics.mean_absolute_error(y_test, y_pred)
mse = metrics.mean_squared_error(y_test, y_pred)
r2 = np.sqrt(metrics.mean_squared_error(y_test, y_pred))

print('Mean Absolute Error:', mae)
print('Mean Square Error:', mse)
print('Root Mean Square Error:', r2)









