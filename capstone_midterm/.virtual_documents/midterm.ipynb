Name: Itopa Asher Anumah
ID:N01666733


import pandas as pd
import numpy as np

from sklearn.impute import SimpleImputer
from sklearn.preprocessing import KBinsDiscretizer
from sklearn.feature_selection import SelectKBest, chi2
from sklearn.naive_bayes import GaussianNB


train_data = pd.read_table('risk-train.txt')
test_data = pd.read_table('risk-test.txt')





train_data.replace('?',np.nan, inplace = True)
train_data.sample(5).head()



test_data.replace('?',np.nan, inplace = True)
test_data.sample(5).head()


#function to check for missing values

def missing_data(data):
    total= data.isnull().sum().sort_values(ascending= False)
    percent = (data.isnull().sum()/data.isnull().count()*100).sort_values(ascending=False)
    return pd.concat([total, percent], axis=1, keys=['Total', 'Percent'])

missing_data(train_data)



missing_data(test_data)






#drop columns with over 50% missing values to avoid imputational biasness
#drop id colum to avoid disturbing the results when training the model
#drop Z_LAST_NAME because its not useful.
train_data = train_data.drop(['ANUMMER_02','ANUMMER_03','ANUMMER_04','ANUMMER_05','ANUMMER_06','ANUMMER_07',
'ANUMMER_08','ANUMMER_09','ANUMMER_10','Z_CARD_ART','MAHN_HOECHST','MAHN_AKT','DATE_LORDER','Z_LAST_NAME','ORDER_ID'], axis = 1)
missing_data(train_data)



test_data = test_data.drop(['ANUMMER_02','ANUMMER_03','ANUMMER_04','ANUMMER_05','ANUMMER_06','ANUMMER_07',
'ANUMMER_08','ANUMMER_09','ANUMMER_10','Z_CARD_ART','MAHN_HOECHST','MAHN_AKT','DATE_LORDER','Z_LAST_NAME','ORDER_ID'], axis = 1)
missing_data(test_data)


#fill missing values in 'TIME ORDER' using forward filling
train_data['TIME_ORDER'] = train_data['TIME_ORDER'].fillna(method='ffill')
train_data['B_BIRTHDATE'] = train_data['B_BIRTHDATE'].fillna(method='ffill')
missing_data(train_data)





#fill missing values in 'TIME ORDER' using forward filling
test_data['TIME_ORDER'] = test_data['TIME_ORDER'].fillna(method='ffill')
test_data['B_BIRTHDATE'] = test_data['B_BIRTHDATE'].fillna(method='ffill')
missing_data(test_data)





train_data['BIRTH_YEAR'] = pd.to_datetime(train_data['B_BIRTHDATE']).dt.year
train_data['AGE'] = 2024 - train_data['BIRTH_YEAR']
train_data = train_data.drop(columns=['B_BIRTHDATE', 'BIRTH_YEAR'])


test_data['BIRTH_YEAR'] = pd.to_datetime(test_data['B_BIRTHDATE']).dt.year
test_data['AGE'] = 2024 - test_data['BIRTH_YEAR']
test_data = test_data.drop(columns=['B_BIRTHDATE', 'BIRTH_YEAR'])


X_train = train_data.drop(columns=['CLASS'])  # Extract features
y_train = train_data['CLASS']


from sklearn.preprocessing import OneHotEncoder
one_hot_encoder_features_train = OneHotEncoder(sparse=False, drop='first')  
X_train_encoded = one_hot_encoder_features_train.fit_transform(X_train)

one_hot_encoder_target = OneHotEncoder(sparse=False, drop='first')  
y_train_reshaped = y_train.values.reshape(-1, 1)
y_train_encoded = one_hot_encoder_target.fit_transform(y_train_reshaped)





X_test = test_data
one_hot_encoder_features_test = OneHotEncoder(sparse=False, drop='first')  
X_test_encoded = one_hot_encoder_features_test.fit_transform(X_test)


X_train_encoded_df = pd.DataFrame(X_train_encoded, columns=one_hot_encoder_features_train.get_feature_names_out())
y_train_encoded_df = pd.DataFrame(y_train_encoded, columns=one_hot_encoder_target.get_feature_names_out())
X_test_encoded_df = pd.DataFrame(X_test_encoded, columns=one_hot_encoder_features_test.get_feature_names_out())



classifier = GaussianNB()
classifier.fit(X_train_encoded_df, y_train_encoded_df)



test_predictions = classifier.predict(X_test_encoded_df)







