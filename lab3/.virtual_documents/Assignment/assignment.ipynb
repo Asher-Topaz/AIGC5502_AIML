import numpy as np
import seaborn as sns
import pandas as pd
import matplotlib.pyplot as plt
from sklearn.linear_model import LinearRegression
from sklearn.metrics import mean_squared_error
from sklearn.model_selection import train_test_split

housing_data = pd.read_csv('housing_data.csv')


housing_data.head()


housing_data.describe()





indp_vars = housing_data[['House_Size','Lot_Size','House_Age','Rooms','Bathrooms','Garages','Distance_to_City']]
dep_vars = housing_data[['House_Price']]
sns.pairplot(housing_data)





#start training the model
#splitting data set
train_x,test_x,train_y,test_y = train_test_split(indp_vars,dep_vars,test_size=0.2,random_state=42)
#initialize MLR model
model = LinearRegression()
#fit MLR model
model.fit(train_x,train_y)


#prediction for house price
house_price_pred = model.predict(test_x)

#calculation for MSE
mse = mean_squared_error(test_y,house_price_pred)
mse


plt.figure(figsize=(10,10))
plt.scatter(x=test_y,y=house_price_pred,color = 'blue', label='Actual vs Predicted')

plt.plot(test_y, test_y, color = 'red', linestyle='--', label = 'Prediction' )
plt.title('Actual vs. Predicted House Prices')
plt.xlabel('Actual House Price($)')
plt.ylabel('Predicted House Price ($)')

plt.show()













