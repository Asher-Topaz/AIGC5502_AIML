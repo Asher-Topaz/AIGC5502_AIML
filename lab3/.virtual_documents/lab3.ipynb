import numpy as np
import seaborn as sns
import pandas as pd
from sklearn.linear_model import LinearRegression
from sklearn.metrics import mean_squared_error
from sklearn.model_selection import train_test_split

synthetic_data = pd.read_csv('Synthetic_app_data (1).csv')


synthetic_data.head()


synthetic_data.describe()


#values for independent and dependent variable
indp_vars = synthetic_data[['Average Response Time (s)','Number of Features','Number of Bugs Reported','Training Hours Provided']]
dep_vars = synthetic_data['User Satisfaction Score']




#plot the graph
sns.pairplot(synthetic_data)



#split the dataset\
train_x,test_x,train_y,test_y=train_test_split(indp_vars,dep_vars,test_size=0.2,random_state=42)


#implement linear model
mlr = LinearRegression()



#fitting the training model
mlr.fit(train_x,train_y)



y_pred_mlr = mlr.predict(test_x)


y_pred_mlr


mse = mean_squared_error(y_pred_mlr,test_y)


mse






