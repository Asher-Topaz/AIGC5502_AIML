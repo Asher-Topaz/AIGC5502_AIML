import pandas as pd
import matplotlib.pyplot as plt
import seaborn as sns


df_diabetes = pd.read_csv('diabetes.csv')
#first few rows
df_diabetes.head()



#last few rows
df_diabetes.tail()


#number of instances in the data set
num_instances, num_features = df_diabetes.shape
print("Number of instances: ",num_instances)
print('Number of features: ',num_features)




#data type of the features
df_diabetes.dtypes


#dependent variable distrubtion bar plot
sns.countplot(x='Outcome',data=df_diabetes)
plt.title("Distribution of dependent variable ")
plt.xlabel('Outcome')
plt.ylabel('count')
plt.show()





#separate features and label
#split the data set into training and testing data set. 
#due to the presence of class imabalance we will use stratified sampling to ensure a similar class districbution
from sklearn.model_selection import train_test_split
from sklearn.linear_model import LogisticRegression
from sklearn.metrics import accuracy_score, precision_score, recall_score, f1_score, roc_auc_score, confusion_matrix

#split the data set.
X = df_diabetes.drop(columns=['Outcome'])
y = df_diabetes['Outcome']
X_train, X_test, y_train, y_test = train_test_split(X, y, test_size=0.2, random_state=42, stratify=y)

#fitting the logistic regression model
model = LogisticRegression()
model.fit(X_train, y_train)

#prediction
y_pred = model.predict(X_test)

accuracy = accuracy_score(y_test,y_pred)
precision = precision_score(y_test, y_pred)
recall = recall_score(y_test, y_pred,)
f1 = f1_score(y_test, y_pred)
roc_auc = roc_auc_score(y_test, y_pred)

print("Evaluation Metrics:")
print("Accuracy:", accuracy)
print("Precision:", precision)
print("Recall:", recall)
print("F1-score:", f1)
print("ROC-AUC Score:", roc_auc)







#compute the confusion matrix
conf_matrix = confusion_matrix(y_test, y_pred)
print("Confusion Matrix:")
print(conf_matrix)


from sklearn. metrics import classification_report

print(classification_report(y_test, y_pred))


sample_df_diabetes = [[10,101,76,48,180,32.9,0.171,63]]
predict_label = model.predict(sample_df_diabetes)
print("Prediction for diabetes sampel data", predict_label)
