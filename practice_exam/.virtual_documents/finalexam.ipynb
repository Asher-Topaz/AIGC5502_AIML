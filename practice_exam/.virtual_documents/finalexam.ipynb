import numpy as np
import pandas as pd
import seaborn as sns
import matplotlib.pyplot as plt





df = pd.read_csv('geo_data_final_exam.csv')
df.head(10)



#1425 rows and ten columns
df.shape


print(df['Rock_Type'].unique())
print(df['Formation_Type'].unique())
print(df['Sample_Location'].unique())




df = pd.get_dummies(df,dtype=int,columns=['Rock_Type','Formation_Type','Sample_Location'])
df.head()




columns = ['Rock_Type_Igneous', 'Rock_Type_Metamorphic', 'Rock_Type_Sedimentary']
label = df[columns]
df = df.drop(columns, axis=1)

df.head()


train_df= df.sample(frac=0.75, random_state=42)
test_df = df.drop(train_df.index)

train_df.head()


from sklearn.tree import DecisionTreeClassifier

entr = DecisionTreeClassifier(criterion='entropy', max_depth=3, random_state=42)
entr.fit = (train_df)

pred = entr.predict(test_df)




















