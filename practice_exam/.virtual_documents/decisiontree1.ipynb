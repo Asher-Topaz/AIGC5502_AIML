import numpy as np
import pandas as pd
import matplotlib.pyplot as plt
%matplotlib inline
import seaborn as sns

sns.set_style("whitegrid")
plt.style.use("fivethirtyeight")


df = pd.read_csv('car_evaluation.csv')
df.head()


df.shape




col_names = ['buying', 'maint', 'doors', 'persons', 'lug_boot', 'safety', 'class']


df.columns = col_names

col_names


df.head()


df['class'].value_counts()


X = df.drop(['class'], axis=1)

y = df['class']





from sklearn.model_selection import train_test_split

X_train, X_test, y_train, y_test = train_test_split(X,y, test_size = 0.33, random_state= 42)




#ordinal encoding
from sklearn.preprocessing import LabelEncoder,OneHotEncoder


columns_to_encode = ['buying','maint', 'doors', 'persons', 'lug_boot', 'safety']
label_encoder = LabelEncoder()

for column in columns_to_encode:
    label_encoder = LabelEncoder()
    X_train[column + '_encoded'] = label_encoder.fit_transform(X_train[column])
    X_test[column + '_encoded'] = label_encoder.transform(X_test[column])

    X_train.drop(column, axis=1, inplace=True)
    X_test.drop(column, axis=1, inplace=True)


X_train.head()












from sklearn.tree import DecisionTreeClassifier


clf_gini = DecisionTreeClassifier(criterion='gini', max_depth=3, random_state=0)
clf_gini.fit(X_train, y_train)



y_pred_gini = clf_gini.predict(X_test)


from sklearn.metrics import accuracy_score

print('Model accuracy score with criterion gini index: {0:0.4f}'. 
format(accuracy_score(y_test, y_pred_gini)))



y_pred_train_gini = clf_gini.predict(X_train)

print('Training-set accuracy score: {0:0.4f}'. format(accuracy_score(y_train, y_pred_train_gini)))



clf_en = DecisionTreeClassifier(criterion='entropy', max_depth=5, random_state=42)


# fit the model
clf_en.fit(X_train, y_train)

y_pred_en = clf_en.predict(X_test)



print('Model accuracy score with criterion entropy: {0:0.4f}'. format(accuracy_score(y_test, y_pred_en)))


y_pred_train_en = clf_en.predict(X_train)


print('Training set score: {:.4f}'.format(clf_en.score(X_train, y_train)))

print('Test set score: {:.4f}'.format(clf_en.score(X_test, y_test)))



from sklearn.metrics import confusion_matrix

cm = confusion_matrix(y_test, y_pred_en)


print('Confusion matrix\n\n', cm)


labels = ['unacc', 'acc', 'good', 'vgood']

# Plot confusion matrix as a heatmap
plt.figure(figsize=(8, 6))
sns.heatmap(cm, annot=True, cmap='Blues', fmt='g', xticklabels=labels, yticklabels=labels)
plt.xlabel('Predicted')
plt.ylabel('Actual')
plt.title('Confusion Matrix')
plt.show()


from sklearn.metrics import classification_report

print(classification_report(y_test, y_pred_en))



